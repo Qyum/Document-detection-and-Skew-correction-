{
 "cells": [
  {
   "cell_type": "code",
   "execution_count": 1,
   "metadata": {},
   "outputs": [],
   "source": [
    "import img2pdf\n",
    "import re\n",
    "import math\n",
    "import numpy as np\n",
    "import pandas as pd\n",
    "import matplotlib.pyplot as plt\n",
    "import imutils\n",
    "import cv2\n",
    "import os\n",
    "import io\n",
    "from google.cloud import vision\n",
    "from PIL import Image, ImageDraw\n",
    "import matplotlib.pyplot as plt\n",
    "\n",
    "import warnings\n",
    "warnings.filterwarnings(\"ignore\")"
   ]
  },
  {
   "cell_type": "code",
   "execution_count": 2,
   "metadata": {},
   "outputs": [],
   "source": [
    "#os.environ[\"GOOGLE_APPLICATION_CREDENTIALS\"]=r\"E:/ssl_invoice/mapping-customers.json\""
   ]
  },
  {
   "cell_type": "code",
   "execution_count": 3,
   "metadata": {},
   "outputs": [],
   "source": [
    "#im_dir = \"E:/ssl_invoice/aligned_samples\"\n",
    "#im_dir = \"E:/ssl_invoice/aligned_images\"\n",
    "im_dir = \"E:/ssl_invoice/aligned_images/local_4.jpg\"\n",
    "#list_of_images_paths = [os.path.join(im_dir, file) for file in os.listdir(im_dir) \n",
    "                       #if file.endswith(\".jpg\") or file.endswith(\".png\")]\n",
    "#invoice_images = [cv2.imread(img_path) for img_path in list_of_images_paths]\n",
    "invoice_images = cv2.imread(im_dir)\n",
    "#print(invoice_images)\n",
    "#plt.imshow(invoice_images)\n",
    "#print(len(invoice_images))"
   ]
  },
  {
   "cell_type": "code",
   "execution_count": 4,
   "metadata": {},
   "outputs": [],
   "source": [
    "def merge_texts(symbols):\n",
    "    text = \"\"\n",
    "    for symbol in symbols:\n",
    "        text += symbol.text\n",
    "    return text \n",
    "\n",
    "def get_document_bounds(image_file):\n",
    "    \"\"\"\n",
    "    Returns document bounds given an image.\n",
    "    \"\"\"\n",
    "    client = vision.ImageAnnotatorClient()\n",
    "\n",
    "    bounds = []\n",
    "    texts = []\n",
    "\n",
    "    with io.open(image_file, 'rb') as image_file:\n",
    "        content = image_file.read()\n",
    "\n",
    "    image = vision.Image(content=content)\n",
    "\n",
    "    response = client.document_text_detection(image=image, \n",
    "                                              image_context={\"language_hints\": [\"bn\"]})\n",
    "    document = response.full_text_annotation\n",
    "\n",
    "    # Collect word level bounds by enumerating all document features\n",
    "    for page in document.pages:\n",
    "        for block in page.blocks:\n",
    "            for paragraph in block.paragraphs:\n",
    "                for word in paragraph.words:\n",
    "                    bounds.append(word.bounding_box)\n",
    "                    texts.append(merge_texts(word.symbols))\n",
    "\n",
    "\n",
    "    # The list `bounds` contains the coordinates of the bounding boxes.\n",
    "    # The list `texts` contains the corresponding texts\n",
    "    return bounds, texts"
   ]
  },
  {
   "cell_type": "code",
   "execution_count": 5,
   "metadata": {},
   "outputs": [],
   "source": [
    "os.environ[\"GOOGLE_APPLICATION_CREDENTIALS\"]=r\"E:/ssl_invoice/mapping-customers.json\""
   ]
  },
  {
   "cell_type": "code",
   "execution_count": 6,
   "metadata": {},
   "outputs": [],
   "source": [
    "doc_bounds = []\n",
    "doc_texts = []\n",
    "#for n,image_file in enumerate(list_of_images_paths):\n",
    "    #print(image_file)\n",
    "doc_bounds,doc_texts = get_document_bounds(im_dir)\n",
    "    #doc_bounds.append(bounds)\n",
    "    #print(n)\n",
    "    #doc_texts.append(texts)\n",
    "#doc_bounds,doc_texts = get_document_bounds(im_dir)"
   ]
  },
  {
   "cell_type": "code",
   "execution_count": 7,
   "metadata": {},
   "outputs": [
    {
     "name": "stdout",
     "output_type": "stream",
     "text": [
      "['Software', 'Shop', 'Limited', 'Head', 'Office', ':', '93', 'B', ',', 'New', 'Eskaton', 'Road', ',', 'Dhaka', '-', '1000', ',', 'Bangladesh', '.', 'Branch', 'Office', ':', 'Standard', 'Center', ',', 'Level', '4', ',', '5', ',', '7', '&', '9', ',', '27/1', ',', 'New', 'Eskaton', 'Road', ',', 'Dhaka', '-', '1000', 'Chattogram', 'Office', ':', '318', ',', 'B.M', 'Height', ',', 'Level', '2', ',', 'Sheikh', 'Mujib', 'Road', ',', 'Agrabad', ',', 'Badamtoli', ',', 'Chattogram', 'Tel', ':', '+880', '961', '222', '1000', ',', '+880', '2', '4831', '6009', ',', '+880', '24831', '5056', ',', 'Email', ':', 'info@sslwireless.com', ',', 'Website', ':', 'www.sslwireless.com', 'G', '©', 'SSL', 'WIRELESS', 'LankaBangla', 'Finance', 'Ltd', 'Safura', 'Tower', '(', 'Level', ':', '11', ')', '20', ',', 'Kemal', 'Ataturk', 'Avenue', 'Banani', ',', 'Dhaka', '-', '1213', ',', 'Bangladesh', 'Attn', ':', 'Muhammad', 'Habib', 'Haider', 'Head', 'of', 'GIS', 'INVOICE', 'No.', 'SSL', '/', '21', '/', '041127', 'Day', 'Month', 'Year', '03', '05', '2021', 'For', 'payment', 'or', 'inquiries', 'please', 'quote', 'above', 'number', '&', 'date', '.', \"Customer's\", 'Reference', 'No', '.:', 'SSL', '/', 'LBF', '/', 'EV', '/', '04', '/', '2021', 'Dated', ':', 'April', '5', ',', '2021', 'Service', 'Address', 'BIN', 'Number', 'Billing', 'Month', 'April', '-', '21', '000056022', 'VAT', 'Reg', 'No', ':', '190', '610', '99850', 'SI', '.', 'Description', 'of', 'Goods', '/', 'Services', 'Amount', 'Unit', 'Qty', 'Unit', 'Price', 'Taka', 'in', 'Taka', 'We', 'charge', 'you', 'for', ':', '1', '1', '61,905.00', 'GlobalSign', 'EV', 'SSL', 'Certificate', '1', 'Server', 'License', 'with', '1', 'Year', 'Validity', '61,905.00', 'Job', 'Add', ':', 'VAT', '@', '5', '%', '3,095.00', 'Total', 'Amount', 'Including', '5', '%', 'VAT', '65,000.00', 'In', 'Words', ':', 'Sixty', 'Five', 'Thousand', 'Taka', 'Only', 'and', 'zero', 'paisa', 'Only', 'Payment', 'instruction', ':', 'Please', 'pay', 'Cheque', 'or', 'Pay', 'Order', 'in', 'favour', 'of', '\"', 'Software', 'Shop', 'Ltd', '\"', '.', 'Bank', 'information', ':', 'A', '/', 'C', 'Name', ':', 'Software', 'Shop', 'Ltd', ',', 'A', '/', 'C', 'no', '.', '002-331', '445', '56', ',', 'National', 'Bank', 'Limited', ',', 'Dilkusha', 'Br', '.', 'Dhaka', '-', '1000', '.', 'From', 'Aly', 'Anisur', 'Rahman', 'Cell', ':', '+88', '01716069928', 'Finance', '&', 'Accounts', 'ABM', 'Atiq', 'Faisal', 'Khan', 'Cell', ':', '+88', '01869020000', 'Senior', 'Executive', 'Banking', '&', 'Financial', 'Services', 'For', 'Software', 'Shop', 'Limited', '(', 'SSL', ')', 'SLO', 'RECEIVED', '110111', '|', '12', '|', '13', '|', '14', '|', '15', '|', '16', '/', '04', 'MAY', '621', 'COISTE', 'TEST', 'LankaBangb', '/', 'Finance', 'Ltd.', 'Contents', 'mot', 'Verified', '20121/22/23/24']\n"
     ]
    }
   ],
   "source": [
    "print(doc_texts)"
   ]
  },
  {
   "cell_type": "code",
   "execution_count": 8,
   "metadata": {},
   "outputs": [],
   "source": [
    " #doc_texts[0]"
   ]
  },
  {
   "cell_type": "code",
   "execution_count": 9,
   "metadata": {},
   "outputs": [
    {
     "name": "stdout",
     "output_type": "stream",
     "text": [
      "Parsing Shop Name: ['Software Shop Limited']\n"
     ]
    }
   ],
   "source": [
    "#let's parse a shop name from invoice samples\n",
    "shop_name=[]\n",
    "#for text in doc_texts:\n",
    "#if first word is invoice let's take 2nd document texts\n",
    "if doc_texts[0]==\"Invoice\":\n",
    "    shop_name.append(doc_texts[1])\n",
    "#else take 1st three document texts\n",
    "else:\n",
    "    shop_name.append(doc_texts[0]+\" \"+doc_texts[1]+\" \"+doc_texts[2])\n",
    "    \n",
    "print(\"Parsing Shop Name:\",shop_name)     "
   ]
  },
  {
   "cell_type": "code",
   "execution_count": 10,
   "metadata": {},
   "outputs": [],
   "source": [
    "#for multiple invoice samples reading a path\n",
    "im_dir = \"E:/ssl_invoice/aligned_samples\"\n",
    "list_of_images_paths = [os.path.join(im_dir, file) for file in os.listdir(im_dir) \n",
    "                       if file.endswith(\".jpg\") or file.endswith(\".png\")]\n",
    "#invoice_images = [cv2.imread(img_path) for img_path in list_of_images_paths]"
   ]
  },
  {
   "cell_type": "code",
   "execution_count": 11,
   "metadata": {},
   "outputs": [
    {
     "name": "stdout",
     "output_type": "stream",
     "text": [
      "Filename: aligned_samples\\local_1.jpg | shop_name:RoyalFruitz.com\n",
      "Filename: aligned_samples\\local_10.jpg | shop_name:Software Shop Limited\n",
      "Filename: aligned_samples\\local_11.jpg | shop_name:Software Shop Limited\n",
      "Filename: aligned_samples\\local_12.jpg | shop_name:Software Shop Limited\n",
      "Filename: aligned_samples\\local_13.jpg | shop_name:edhe Head Office\n",
      "Filename: aligned_samples\\local_14.jpg | shop_name:Software Shop Limited\n",
      "Filename: aligned_samples\\local_15.jpg | shop_name:Software Shop Limited\n",
      "Filename: aligned_samples\\local_2.jpg | shop_name:Software Shop Limited\n",
      "Filename: aligned_samples\\local_3.jpg | shop_name:Software Shop Limited\n",
      "Filename: aligned_samples\\local_4.jpg | shop_name:Software Shop Limited\n",
      "Filename: aligned_samples\\local_5.jpg | shop_name:Software Shop Limited\n",
      "Filename: aligned_samples\\local_6.jpg | shop_name:Software Shop Limited\n",
      "Filename: aligned_samples\\local_8.jpg | shop_name:Software Shop Limited\n",
      "Filename: aligned_samples\\local_9.jpg | shop_name:Software Shop Limited\n",
      "Filename: aligned_samples\\loval_7.jpg | shop_name:Software Shop Limited\n",
      "Filename: aligned_samples\\net_1.png | shop_name:East Repair Inc.\n"
     ]
    }
   ],
   "source": [
    "\n",
    "#let's parse a shop name from multiple invoice samples\n",
    "for n,image_file in enumerate(list_of_images_paths):\n",
    "    #print(image_file)\n",
    "    doc_bounds,doc_texts = get_document_bounds(image_file)\n",
    "    #if first word is invoice let's take 2nd document texts\n",
    "    if doc_texts[0]==\"Invoice\":\n",
    "        shop_name=doc_texts[1]\n",
    "        print(\"Filename: {} | shop_name:{}\".format(image_file.split(\"/\")[-1],shop_name))\n",
    "    #else take 1st three document texts\n",
    "    else:\n",
    "        shop_name=doc_texts[0]+\" \"+doc_texts[1]+\" \"+doc_texts[2]\n",
    "        print(\"Filename: {} | shop_name:{}\".format(image_file.split(\"/\")[-1],shop_name))\n",
    "    "
   ]
  },
  {
   "cell_type": "code",
   "execution_count": 12,
   "metadata": {},
   "outputs": [],
   "source": [
    " \n",
    "    #doc_bounds.append(bounds)"
   ]
  },
  {
   "cell_type": "code",
   "execution_count": 13,
   "metadata": {},
   "outputs": [],
   "source": [
    "#x=(top_left_x+top_right_x)\n",
    "#doc_dfs[0].top_left_x+doc_dfs[0].top_right_x"
   ]
  },
  {
   "cell_type": "code",
   "execution_count": 14,
   "metadata": {},
   "outputs": [],
   "source": [
    "#doc_dfs[0][\"word\"].iloc[1]"
   ]
  },
  {
   "cell_type": "code",
   "execution_count": 15,
   "metadata": {},
   "outputs": [],
   "source": [
    "#len(doc_dfs[0][\"word\"])"
   ]
  },
  {
   "cell_type": "code",
   "execution_count": 16,
   "metadata": {},
   "outputs": [],
   "source": [
    "#l=round(len(doc_dfs[0][\"word\"])/7)"
   ]
  },
  {
   "cell_type": "code",
   "execution_count": 17,
   "metadata": {},
   "outputs": [],
   "source": [
    "#doc_dfs[0][\"word\"][:l]"
   ]
  },
  {
   "cell_type": "code",
   "execution_count": 18,
   "metadata": {},
   "outputs": [],
   "source": [
    "#find biggest text from  top_corner\n",
    "\n",
    "#all_text=[]\n",
    "#for text in doc_dfs[0][\"word\"][:l]:\n",
    "    #all_text.append(text)   \n",
    "#print(all_text)\n",
    "#max_t=max(all_text)\n",
    "#print(max_t)"
   ]
  },
  {
   "cell_type": "code",
   "execution_count": 19,
   "metadata": {},
   "outputs": [],
   "source": [
    "#doc_dfs"
   ]
  },
  {
   "cell_type": "code",
   "execution_count": null,
   "metadata": {},
   "outputs": [],
   "source": [
    " \n"
   ]
  },
  {
   "cell_type": "code",
   "execution_count": null,
   "metadata": {},
   "outputs": [],
   "source": [
    " "
   ]
  },
  {
   "cell_type": "code",
   "execution_count": null,
   "metadata": {},
   "outputs": [],
   "source": []
  },
  {
   "cell_type": "code",
   "execution_count": null,
   "metadata": {},
   "outputs": [],
   "source": []
  }
 ],
 "metadata": {
  "kernelspec": {
   "display_name": "Python 3",
   "language": "python",
   "name": "python3"
  },
  "language_info": {
   "codemirror_mode": {
    "name": "ipython",
    "version": 3
   },
   "file_extension": ".py",
   "mimetype": "text/x-python",
   "name": "python",
   "nbconvert_exporter": "python",
   "pygments_lexer": "ipython3",
   "version": "3.7.4"
  }
 },
 "nbformat": 4,
 "nbformat_minor": 2
}
